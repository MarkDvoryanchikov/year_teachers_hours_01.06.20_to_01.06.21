{
  "nbformat": 4,
  "nbformat_minor": 0,
  "metadata": {
    "colab": {
      "name": "Moodle_year_logs",
      "provenance": [],
      "mount_file_id": "1OdmXmO9VONl_JaiC4Lv3k9pMLYHXkzoI",
      "authorship_tag": "ABX9TyN1ByPO/wzFM0icLpcA6zVY",
      "include_colab_link": true
    },
    "kernelspec": {
      "name": "python3",
      "display_name": "Python 3"
    },
    "language_info": {
      "name": "python"
    }
  },
  "cells": [
    {
      "cell_type": "markdown",
      "metadata": {
        "id": "view-in-github",
        "colab_type": "text"
      },
      "source": [
        "<a href=\"https://colab.research.google.com/github/MarkDvoryanchikov/year_teachers_hours_01.06.20_to_01.06.21/blob/main/Moodle_year_logs.ipynb\" target=\"_parent\"><img src=\"https://colab.research.google.com/assets/colab-badge.svg\" alt=\"Open In Colab\"/></a>"
      ]
    },
    {
      "cell_type": "code",
      "metadata": {
        "id": "t8swRwPxmkKV"
      },
      "source": [
        "import pandas as pd\n"
      ],
      "execution_count": 1,
      "outputs": []
    },
    {
      "cell_type": "code",
      "metadata": {
        "id": "TVdwlDOZms07"
      },
      "source": [
        "pd.set_option('display.max_rows', 10)"
      ],
      "execution_count": 2,
      "outputs": []
    },
    {
      "cell_type": "code",
      "metadata": {
        "id": "iKR7JA93mvIC",
        "colab": {
          "base_uri": "https://localhost:8080/",
          "height": 385
        },
        "outputId": "ef1e872a-60f1-4456-ee0d-1992752e8f24"
      },
      "source": [
        "data=pd.read_csv('/content/drive/MyDrive/Colab Notebooks/nir_files/teachers_year.csv', sep=';')\n",
        "\n",
        "\n",
        "# logs data import from lms moodle to csv\n",
        "\"\"\"\n",
        "SELECT id, action, userid, timecreated  FROM moodleday.mdl_logstore_standard_log \n",
        "WHERE userid IN ( \n",
        "\tSELECT userid FROM moodleday.mdl_cohort_members \n",
        "    WHERE cohortid IN ( \n",
        "\t\tSELECT id FROM moodleday.mdl_cohort WHERE name like 'Преподаватели' \n",
        "\t)\n",
        "    AND userid NOT IN ( -- нет нагрузки ВО\n",
        "\t\t2112, 2115, 2143, 2203, 2321, 2363, 2405, 2421, 3827, 3987,\n",
        "\t\t4082, 4709, 4718, 4775, 4792, 9644, 9672,11718,11887,12418,\n",
        "\t\t12776, 14083, 14895, 14896, 22, 517, 520, 536, 539, 574, \n",
        "\t\t576, 596, 970, 972, 981, 14903, 14890, 14233, 14140, 12421,\n",
        "\t\t12422, 12423, 12424, 12426, 12427, 12428, 12429, 12702, 11912, 11682,\n",
        "\t\t9699, 9692, 9674, 8831 \n",
        "\t)\n",
        ");\n",
        "\"\"\"\n",
        "data"
      ],
      "execution_count": 3,
      "outputs": [
        {
          "output_type": "execute_result",
          "data": {
            "text/html": [
              "<div>\n",
              "<style scoped>\n",
              "    .dataframe tbody tr th:only-of-type {\n",
              "        vertical-align: middle;\n",
              "    }\n",
              "\n",
              "    .dataframe tbody tr th {\n",
              "        vertical-align: top;\n",
              "    }\n",
              "\n",
              "    .dataframe thead th {\n",
              "        text-align: right;\n",
              "    }\n",
              "</style>\n",
              "<table border=\"1\" class=\"dataframe\">\n",
              "  <thead>\n",
              "    <tr style=\"text-align: right;\">\n",
              "      <th></th>\n",
              "      <th>id</th>\n",
              "      <th>action</th>\n",
              "      <th>userid</th>\n",
              "      <th>timecreated</th>\n",
              "    </tr>\n",
              "  </thead>\n",
              "  <tbody>\n",
              "    <tr>\n",
              "      <th>0</th>\n",
              "      <td>101420696</td>\n",
              "      <td>sent</td>\n",
              "      <td>11</td>\n",
              "      <td>1593051606</td>\n",
              "    </tr>\n",
              "    <tr>\n",
              "      <th>1</th>\n",
              "      <td>101421378</td>\n",
              "      <td>sent</td>\n",
              "      <td>11</td>\n",
              "      <td>1593051909</td>\n",
              "    </tr>\n",
              "    <tr>\n",
              "      <th>2</th>\n",
              "      <td>101421380</td>\n",
              "      <td>sent</td>\n",
              "      <td>11</td>\n",
              "      <td>1593051909</td>\n",
              "    </tr>\n",
              "    <tr>\n",
              "      <th>3</th>\n",
              "      <td>101422559</td>\n",
              "      <td>sent</td>\n",
              "      <td>11</td>\n",
              "      <td>1593052806</td>\n",
              "    </tr>\n",
              "    <tr>\n",
              "      <th>4</th>\n",
              "      <td>101422560</td>\n",
              "      <td>sent</td>\n",
              "      <td>11</td>\n",
              "      <td>1593052806</td>\n",
              "    </tr>\n",
              "    <tr>\n",
              "      <th>...</th>\n",
              "      <td>...</td>\n",
              "      <td>...</td>\n",
              "      <td>...</td>\n",
              "      <td>...</td>\n",
              "    </tr>\n",
              "    <tr>\n",
              "      <th>3253270</th>\n",
              "      <td>142328588</td>\n",
              "      <td>graded</td>\n",
              "      <td>14897</td>\n",
              "      <td>1620202481</td>\n",
              "    </tr>\n",
              "    <tr>\n",
              "      <th>3253271</th>\n",
              "      <td>146098318</td>\n",
              "      <td>graded</td>\n",
              "      <td>14897</td>\n",
              "      <td>1622010482</td>\n",
              "    </tr>\n",
              "    <tr>\n",
              "      <th>3253272</th>\n",
              "      <td>146106123</td>\n",
              "      <td>graded</td>\n",
              "      <td>14897</td>\n",
              "      <td>1622011735</td>\n",
              "    </tr>\n",
              "    <tr>\n",
              "      <th>3253273</th>\n",
              "      <td>146106504</td>\n",
              "      <td>graded</td>\n",
              "      <td>14897</td>\n",
              "      <td>1622011801</td>\n",
              "    </tr>\n",
              "    <tr>\n",
              "      <th>3253274</th>\n",
              "      <td>146106755</td>\n",
              "      <td>graded</td>\n",
              "      <td>14897</td>\n",
              "      <td>1622011835</td>\n",
              "    </tr>\n",
              "  </tbody>\n",
              "</table>\n",
              "<p>3253275 rows × 4 columns</p>\n",
              "</div>"
            ],
            "text/plain": [
              "                id  action  userid  timecreated\n",
              "0        101420696    sent      11   1593051606\n",
              "1        101421378    sent      11   1593051909\n",
              "2        101421380    sent      11   1593051909\n",
              "3        101422559    sent      11   1593052806\n",
              "4        101422560    sent      11   1593052806\n",
              "...            ...     ...     ...          ...\n",
              "3253270  142328588  graded   14897   1620202481\n",
              "3253271  146098318  graded   14897   1622010482\n",
              "3253272  146106123  graded   14897   1622011735\n",
              "3253273  146106504  graded   14897   1622011801\n",
              "3253274  146106755  graded   14897   1622011835\n",
              "\n",
              "[3253275 rows x 4 columns]"
            ]
          },
          "metadata": {
            "tags": []
          },
          "execution_count": 3
        }
      ]
    },
    {
      "cell_type": "code",
      "metadata": {
        "id": "_DbRCUP31Idp"
      },
      "source": [
        "data = data[data['userid'] != 12782] # нет нагрузки ВО"
      ],
      "execution_count": 4,
      "outputs": []
    },
    {
      "cell_type": "code",
      "metadata": {
        "id": "miox2pxcmyM6",
        "colab": {
          "base_uri": "https://localhost:8080/"
        },
        "outputId": "b1d5dbd4-1fcb-4287-ef58-05eed079e1ca"
      },
      "source": [
        "TIME_OUT = 60*60*2 # 2 часа - время принудительного выхода из системы  \n",
        "TIME_OUT # Если между событиями время больше TIME_OUT значит пользователь не активен \n",
        "\n",
        "COUNT_TEACHERS = 311 # Количество преподавателей ВО в LMS Moodle - 100%:\n",
        "\"\"\"\n",
        "SELECT count(*) FROM ( \n",
        "\tSELECT userid FROM moodleday.mdl_cohort_members \n",
        "    WHERE cohortid IN ( \n",
        "\t\tSELECT id FROM moodleday.mdl_cohort WHERE name like 'Преподаватели' \n",
        "\t)\n",
        "    AND userid NOT IN ( -- нет нагрузки ВО\n",
        "\t\t2112, 2115, 2143, 2203, 2321, 2363, 2405, 2421, 3827, 3987,\n",
        "\t\t4082, 4709, 4718, 4775, 4792, 9644, 9672,11718,11887,12418,\n",
        "\t\t12776, 14083, 14895, 14896, 22, 517, 520, 536, 539, 574, \n",
        "\t\t576, 596, 970, 972, 981, 14903, 14890, 14233, 14140, 12421,\n",
        "\t\t12422, 12423, 12424, 12426, 12427, 12428, 12429, 12702, 11912, 11682,\n",
        "\t\t9699, 9692, 9674, 8831 \n",
        "\t)\n",
        ") t;\n",
        "\n",
        "\"\"\"\n",
        "\n",
        "data.dtypes"
      ],
      "execution_count": 5,
      "outputs": [
        {
          "output_type": "execute_result",
          "data": {
            "text/plain": [
              "id              int64\n",
              "action         object\n",
              "userid          int64\n",
              "timecreated     int64\n",
              "dtype: object"
            ]
          },
          "metadata": {
            "tags": []
          },
          "execution_count": 5
        }
      ]
    },
    {
      "cell_type": "code",
      "metadata": {
        "id": "0wCYxb-bm0oi"
      },
      "source": [
        "data = data.sort_values(['userid','timecreated']) # Упорядочиваем набор данных, что необходимо после склейки таблиц логов\n",
        "data = data.set_index(['userid','id']) # Группировка по преподавателям ВО\n"
      ],
      "execution_count": 6,
      "outputs": []
    },
    {
      "cell_type": "code",
      "metadata": {
        "id": "vmYHfMhEm4q6",
        "colab": {
          "base_uri": "https://localhost:8080/",
          "height": 414
        },
        "outputId": "392886bb-ab32-4fe2-c4af-d486e6216600"
      },
      "source": [
        "data['Interval'] = data['timecreated'].diff() # Вычисляем расстояния между событиями\n",
        "data = data.fillna(0) # Заполняем нулём первую строку для первого преподавателя ( убираем Null )\n",
        "data.loc[data['Interval'] <0, 'Interval'] = 0 # Заполняем нулём первую строку для остальных преподавателей \n",
        "                                              # (убираем отрицательные значения в результате расчёта расстояний)\n",
        "data"
      ],
      "execution_count": 7,
      "outputs": [
        {
          "output_type": "execute_result",
          "data": {
            "text/html": [
              "<div>\n",
              "<style scoped>\n",
              "    .dataframe tbody tr th:only-of-type {\n",
              "        vertical-align: middle;\n",
              "    }\n",
              "\n",
              "    .dataframe tbody tr th {\n",
              "        vertical-align: top;\n",
              "    }\n",
              "\n",
              "    .dataframe thead th {\n",
              "        text-align: right;\n",
              "    }\n",
              "</style>\n",
              "<table border=\"1\" class=\"dataframe\">\n",
              "  <thead>\n",
              "    <tr style=\"text-align: right;\">\n",
              "      <th></th>\n",
              "      <th></th>\n",
              "      <th>action</th>\n",
              "      <th>timecreated</th>\n",
              "      <th>Interval</th>\n",
              "    </tr>\n",
              "    <tr>\n",
              "      <th>userid</th>\n",
              "      <th>id</th>\n",
              "      <th></th>\n",
              "      <th></th>\n",
              "      <th></th>\n",
              "    </tr>\n",
              "  </thead>\n",
              "  <tbody>\n",
              "    <tr>\n",
              "      <th rowspan=\"5\" valign=\"top\">11</th>\n",
              "      <th>101108156</th>\n",
              "      <td>loggedin</td>\n",
              "      <td>1592806937</td>\n",
              "      <td>0.0</td>\n",
              "    </tr>\n",
              "    <tr>\n",
              "      <th>101108164</th>\n",
              "      <td>viewed</td>\n",
              "      <td>1592806938</td>\n",
              "      <td>1.0</td>\n",
              "    </tr>\n",
              "    <tr>\n",
              "      <th>101117733</th>\n",
              "      <td>viewed</td>\n",
              "      <td>1592809542</td>\n",
              "      <td>2604.0</td>\n",
              "    </tr>\n",
              "    <tr>\n",
              "      <th>101118466</th>\n",
              "      <td>viewed</td>\n",
              "      <td>1592809773</td>\n",
              "      <td>231.0</td>\n",
              "    </tr>\n",
              "    <tr>\n",
              "      <th>101139401</th>\n",
              "      <td>loggedin</td>\n",
              "      <td>1592816059</td>\n",
              "      <td>6286.0</td>\n",
              "    </tr>\n",
              "    <tr>\n",
              "      <th>...</th>\n",
              "      <th>...</th>\n",
              "      <td>...</td>\n",
              "      <td>...</td>\n",
              "      <td>...</td>\n",
              "    </tr>\n",
              "    <tr>\n",
              "      <th rowspan=\"5\" valign=\"top\">14897</th>\n",
              "      <th>146106876</th>\n",
              "      <td>viewed</td>\n",
              "      <td>1622011852</td>\n",
              "      <td>1.0</td>\n",
              "    </tr>\n",
              "    <tr>\n",
              "      <th>146107055</th>\n",
              "      <td>sent</td>\n",
              "      <td>1622011881</td>\n",
              "      <td>29.0</td>\n",
              "    </tr>\n",
              "    <tr>\n",
              "      <th>146107057</th>\n",
              "      <td>sent</td>\n",
              "      <td>1622011881</td>\n",
              "      <td>0.0</td>\n",
              "    </tr>\n",
              "    <tr>\n",
              "      <th>146107059</th>\n",
              "      <td>sent</td>\n",
              "      <td>1622011881</td>\n",
              "      <td>0.0</td>\n",
              "    </tr>\n",
              "    <tr>\n",
              "      <th>146590193</th>\n",
              "      <td>viewed</td>\n",
              "      <td>1622160483</td>\n",
              "      <td>148602.0</td>\n",
              "    </tr>\n",
              "  </tbody>\n",
              "</table>\n",
              "<p>3253207 rows × 3 columns</p>\n",
              "</div>"
            ],
            "text/plain": [
              "                    action  timecreated  Interval\n",
              "userid id                                        \n",
              "11     101108156  loggedin   1592806937       0.0\n",
              "       101108164    viewed   1592806938       1.0\n",
              "       101117733    viewed   1592809542    2604.0\n",
              "       101118466    viewed   1592809773     231.0\n",
              "       101139401  loggedin   1592816059    6286.0\n",
              "...                    ...          ...       ...\n",
              "14897  146106876    viewed   1622011852       1.0\n",
              "       146107055      sent   1622011881      29.0\n",
              "       146107057      sent   1622011881       0.0\n",
              "       146107059      sent   1622011881       0.0\n",
              "       146590193    viewed   1622160483  148602.0\n",
              "\n",
              "[3253207 rows x 3 columns]"
            ]
          },
          "metadata": {
            "tags": []
          },
          "execution_count": 7
        }
      ]
    },
    {
      "cell_type": "code",
      "metadata": {
        "id": "zUwxj1hqm7GK"
      },
      "source": [
        "data_activities = data[data['Interval'] < TIME_OUT] # иcключаем периоды неактивности"
      ],
      "execution_count": 8,
      "outputs": []
    },
    {
      "cell_type": "code",
      "metadata": {
        "colab": {
          "base_uri": "https://localhost:8080/"
        },
        "id": "gVTnnW4A0GgD",
        "outputId": "f400d396-ae06-4131-ebd0-a06f4372f3da"
      },
      "source": [
        "data_activities['Interval'].sum()/60/60"
      ],
      "execution_count": 9,
      "outputs": [
        {
          "output_type": "execute_result",
          "data": {
            "text/plain": [
              "51327.82833333334"
            ]
          },
          "metadata": {
            "tags": []
          },
          "execution_count": 9
        }
      ]
    },
    {
      "cell_type": "code",
      "metadata": {
        "id": "QsOJA2-Cm866",
        "colab": {
          "base_uri": "https://localhost:8080/"
        },
        "outputId": "1c1a7252-ea15-4cea-8b09-043306a799c0"
      },
      "source": [
        "data_activities['Interval'].sum()/60/60/COUNT_TEACHERS # часов на человека"
      ],
      "execution_count": 10,
      "outputs": [
        {
          "output_type": "execute_result",
          "data": {
            "text/plain": [
              "165.04124866023582"
            ]
          },
          "metadata": {
            "tags": []
          },
          "execution_count": 10
        }
      ]
    },
    {
      "cell_type": "code",
      "metadata": {
        "colab": {
          "base_uri": "https://localhost:8080/"
        },
        "id": "HWJ2IPiHLuvs",
        "outputId": "bb8b67ad-3fc9-4515-c1f4-11fb63584bc9"
      },
      "source": [
        "# с учётом средней доли ставки \n",
        "AVERAGE_RATE = 0.895\n",
        "data_activities['Interval'].sum()/60/60/COUNT_TEACHERS/AVERAGE_RATE"
      ],
      "execution_count": 11,
      "outputs": [
        {
          "output_type": "execute_result",
          "data": {
            "text/plain": [
              "184.403629787973"
            ]
          },
          "metadata": {
            "tags": []
          },
          "execution_count": 11
        }
      ]
    }
  ]
}